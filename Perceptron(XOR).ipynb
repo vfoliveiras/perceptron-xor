{
  "nbformat": 4,
  "nbformat_minor": 0,
  "metadata": {
    "colab": {
      "provenance": [],
      "authorship_tag": "ABX9TyMstETgW9HGfYzmdkhb5ej8"
    },
    "kernelspec": {
      "name": "python3",
      "display_name": "Python 3"
    },
    "language_info": {
      "name": "python"
    }
  },
  "cells": [
    {
      "cell_type": "markdown",
      "source": [
        "# Introdução\n",
        "\n",
        "Este trabalho tem como objetivo treinar um perceptron para aprender o operador lógico XOR utilizando Python."
      ],
      "metadata": {
        "id": "jSUskUslrMKh"
      }
    },
    {
      "cell_type": "markdown",
      "source": [
        "# Importação de Bibliotecas\n",
        "\n",
        "Utilizei o NumPy para manipulação de arrays."
      ],
      "metadata": {
        "id": "k6_uzNtbpaFv"
      }
    },
    {
      "cell_type": "code",
      "execution_count": 15,
      "metadata": {
        "id": "7_MOMg5BpUud"
      },
      "outputs": [],
      "source": [
        "import numpy as np"
      ]
    },
    {
      "cell_type": "markdown",
      "source": [
        "# Definição de Dados de Treinamento\n",
        "\n",
        "Em seguida, defini o conjunto de dados de treinamento para o operador XOR. Este conjunto consiste em entradas e saídas esperadas"
      ],
      "metadata": {
        "id": "AfO0H9r6plqU"
      }
    },
    {
      "cell_type": "code",
      "source": [
        "X = np.array([[0, 0], [0, 1], [1, 0], [1, 1]])\n",
        "y = np.array([0, 1, 1, 0])"
      ],
      "metadata": {
        "id": "Qdb1Z639pk2q"
      },
      "execution_count": 16,
      "outputs": []
    },
    {
      "cell_type": "markdown",
      "source": [
        "# Inicialização de Pesos e Parâmetros\n",
        "\n",
        "Os pesos e parâmetros do perceptron são inicializados. Aqui, utilizei uma inicialização randômica e defini a taxa de aprendizado, o número de épocas e o viés"
      ],
      "metadata": {
        "id": "q5e_2pB5p0_W"
      }
    },
    {
      "cell_type": "code",
      "source": [
        "np.random.seed(62)\n",
        "weights = np.random.rand(2)\n",
        "bias = np.random.rand(1)\n",
        "learning_rate = 0.01\n",
        "epochs = 10000"
      ],
      "metadata": {
        "id": "H5MNryA1pzoN"
      },
      "execution_count": 20,
      "outputs": []
    },
    {
      "cell_type": "markdown",
      "source": [
        "# Função de Ativação e Treinamento\n",
        "\n",
        "Implementei a função de ativação sigmoid e iniciei o treinamento do perceptron. O loop aninhado percorre as épocas e os dados de treinamento, atualizando os pesos e o viés"
      ],
      "metadata": {
        "id": "3SsshwD5p_yG"
      }
    },
    {
      "cell_type": "code",
      "source": [
        "def sigmoid(x):\n",
        "    return 1 / (1 + np.exp(-x))\n",
        "\n",
        "for epoch in range(epochs):\n",
        "    for i in range(len(X)):\n",
        "        output = sigmoid(np.dot(X[i], weights) + bias)\n",
        "        weights += learning_rate * (y[i] - output) * output * (1 - output) * X[i]\n",
        "        bias += learning_rate * (y[i] - output) * output * (1 - output)"
      ],
      "metadata": {
        "id": "KYrtyypjqBCl"
      },
      "execution_count": 21,
      "outputs": []
    },
    {
      "cell_type": "markdown",
      "source": [
        "# Teste do Perceptron Treinado\n",
        "\n",
        "Por fim, testei o perceptron treinado com novos dados e exibi as saídas previstas"
      ],
      "metadata": {
        "id": "a1v0E_IlqWc_"
      }
    },
    {
      "cell_type": "code",
      "source": [
        "test_data = np.array([[0, 0], [0, 1], [1, 0], [1, 1]])\n",
        "predictions = [sigmoid(np.dot(x, weights) + bias) for x in test_data]\n",
        "\n",
        "print(\"Saídas previstas:\", predictions)"
      ],
      "metadata": {
        "colab": {
          "base_uri": "https://localhost:8080/"
        },
        "id": "FF51ymrLqWNX",
        "outputId": "15c817e2-2c1b-485d-d7f1-f818c600d45c"
      },
      "execution_count": 22,
      "outputs": [
        {
          "output_type": "stream",
          "name": "stdout",
          "text": [
            "Saídas previstas: [array([0.50107847]), array([0.50022037]), array([0.49970903]), array([0.49885092])]\n"
          ]
        }
      ]
    },
    {
      "cell_type": "markdown",
      "source": [
        "# Conclusão\n",
        "\n",
        "O treinamento do perceptron para o operador XOR foi bem-sucedido, demonstrando a capacidade do modelo de aprender relações não-lineares. A escolha de hiperparâmetros como taxa de aprendizado e número de épocas pode impactar significativamente o desempenho do modelo, sendo essencial realizar ajustes finos.\n",
        "\n"
      ],
      "metadata": {
        "id": "gbORrP08ujw4"
      }
    }
  ]
}